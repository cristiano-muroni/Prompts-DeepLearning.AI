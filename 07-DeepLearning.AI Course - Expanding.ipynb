{
 "cells": [
  {
   "cell_type": "markdown",
   "id": "a8a5aaa8",
   "metadata": {},
   "source": [
    "### Expanding\n",
    "Gerando e-mails de atendimento ao cliente personalizados de acordo com a avaliação de cada cliente."
   ]
  },
  {
   "cell_type": "markdown",
   "id": "f0c2c61d",
   "metadata": {},
   "source": [
    "### Setup"
   ]
  },
  {
   "cell_type": "code",
   "execution_count": 17,
   "id": "a7b47525",
   "metadata": {},
   "outputs": [],
   "source": [
    "import openai\n",
    "\n",
    "openai.api_key = \"HERE Your API KEY\"\n",
    "\n",
    "def get_completion(prompt, model = \"gpt-3.5-turbo\", temperature=0):\n",
    "    messages = [ {\"role\": \"user\", \"content\": prompt}]\n",
    "    response = openai.ChatCompletion.create(\n",
    "      model = model,\n",
    "      messages = messages,\n",
    "      temperature = temperature,\n",
    "    )\n",
    "    return response.choices[0].message[\"content\"]"
   ]
  },
  {
   "cell_type": "markdown",
   "id": "cb158258",
   "metadata": {},
   "source": [
    "### Customize the automated reply to a customer email"
   ]
  },
  {
   "cell_type": "code",
   "execution_count": 18,
   "id": "2c72cd08",
   "metadata": {},
   "outputs": [],
   "source": [
    "# given the sentiment from the lesson on \"inferring\",\n",
    "# and the original customer message, customize the email\n",
    "sentiment = \"negative\"\n",
    "\n",
    "# review for a blender\n",
    "review = f\"\"\"\n",
    "Então, eles ainda tinham o sistema de 17 peças na estação \\\n",
    "venda por cerca de $ 49 no mês de novembro, cerca de \\\n",
    "metade do desconto, mas por algum motivo (chame isso de manipulação de preços) \\\n",
    "por volta da segunda semana de dezembro, todos os preços foram \\\n",
    "até cerca de $ 70- $ 89 para o mesmo \\\n",
    "sistema. E o sistema de 11 peças subiu cerca de $ 10 ou \\\n",
    "assim no preço também do preço de venda anterior de $ 29. \\\n",
    "Parece bom, mas se você olhar para a base, a parte \\\n",
    "onde a lâmina trava no lugar não parece tão bom \\\n",
    "como nas edições anteriores de alguns anos atrás, mas eu \\\n",
    "planeje ser muito gentil com isso (exemplo, eu esmago \\\n",
    "itens muito duros como feijão, gelo, arroz, etc. na \\\n",
    "liquidificador primeiro e depois pulverize-os no tamanho da porção \\\n",
    "Eu quero no liquidificador depois mude para o chicote \\\n",
    "lâmina para uma farinha mais fina, e use a lâmina de corte transversal \\\n",
    "primeiro ao fazer smoothies, depois use a lâmina plana \\\n",
    "se eu precisar deles mais finos/menos carnudos). Dica especial na hora de fazer \\\n",
    "smoothies, corte finamente e congele as frutas e \\\n",
    "legumes (se usar espinafre-levemente refogado amolecer o \\\n",
    "espinafre, em seguida, congele até estar pronto para uso - e se estiver fazendo \\\n",
    "sorvete, use um processador de alimentos de tamanho pequeno a médio) \\\n",
    "que você planeja usar dessa forma, você pode evitar adicionar \\\n",
    "muito gelo, se for o caso - ao fazer seu smoothie. \\\n",
    "Após cerca de um ano, o motor estava fazendo um barulho estranho. \\\n",
    "Liguei para o atendimento ao cliente, mas a garantia expirou \\\n",
    "já, então tive que comprar outro. FYI: O geral \\\n",
    "a qualidade foi feita nesses tipos de produtos, então \\\n",
    "eles estão contando com o reconhecimento da marca e \\\n",
    "lealdade do consumidor para manter as vendas. Entendi em cerca de \\\n",
    "dois dias.\n",
    "\"\"\""
   ]
  },
  {
   "cell_type": "code",
   "execution_count": 20,
   "id": "a5afe032",
   "metadata": {},
   "outputs": [
    {
     "name": "stdout",
     "output_type": "stream",
     "text": [
      "Caro cliente,\n",
      "\n",
      "Agradecemos por compartilhar sua avaliação conosco. Lamentamos sinceramente que você tenha tido uma experiência negativa com nosso sistema de 17 peças. Pedimos desculpas por qualquer inconveniente causado pela mudança de preços que você mencionou.\n",
      "\n",
      "Levamos suas preocupações a sério e gostaríamos de oferecer assistência adicional. Por favor, entre em contato com nosso serviço de atendimento ao cliente para que possamos resolver qualquer problema que você tenha enfrentado. Estamos aqui para ajudar e garantir sua satisfação.\n",
      "\n",
      "Agradecemos por sua gentileza ao compartilhar suas dicas sobre o uso do liquidificador. Valorizamos sua opinião e levaremos em consideração suas sugestões para melhorar nossos produtos.\n",
      "\n",
      "Mais uma vez, pedimos desculpas pelos problemas que você enfrentou e agradecemos por sua avaliação. Se houver algo mais em que possamos ajudar, não hesite em nos contatar.\n",
      "\n",
      "Atenciosamente,\n",
      "Agente de atendimento ao cliente AI\n"
     ]
    }
   ],
   "source": [
    "prompt = f\"\"\"\n",
    "Você é um assistente de IA de atendimento ao cliente.\n",
    "Sua tarefa é enviar uma resposta por e-mail a um cliente valioso.\n",
    "Dado o e-mail do cliente delimitado por ```, \\\n",
    "Gere uma resposta para agradecer ao cliente pela avaliação.\n",
    "Se o sentimento for positivo ou neutro, agradeça por \\\n",
    "sua revisão.\n",
    "Se o sentimento for negativo, peça desculpas e sugira que \\\n",
    "eles podem entrar em contato com o atendimento ao cliente.\n",
    "Certifique-se de usar detalhes específicos da revisão.\n",
    "Escreva em um tom conciso e profissional.\n",
    "Assine o e-mail como `agente de cliente AI`.\n",
    "Comentário do cliente: ```{review}```\n",
    "Sentimento da avaliação: {sentiment}\n",
    "\"\"\"\n",
    "\n",
    "response = get_completion(prompt, temperature=0)\n",
    "print(response)"
   ]
  },
  {
   "cell_type": "markdown",
   "id": "613bd0a0",
   "metadata": {},
   "source": [
    "### Remind the model to use details from the customer's email"
   ]
  },
  {
   "cell_type": "code",
   "execution_count": 23,
   "id": "6187f4cf",
   "metadata": {},
   "outputs": [
    {
     "name": "stdout",
     "output_type": "stream",
     "text": [
      "Prezado cliente,\n",
      "\n",
      "Agradecemos por compartilhar sua revisão conosco. Lamentamos saber que você teve uma experiência negativa com nossos preços e qualidade do produto. Pedimos desculpas por qualquer inconveniente causado.\n",
      "\n",
      "Nossa equipe de atendimento ao cliente está à disposição para resolver quaisquer problemas que você possa ter encontrado. Recomendamos que você entre em contato com eles para obter assistência adicional.\n",
      "\n",
      "Valorizamos sua opinião e feedback, pois isso nos ajuda a melhorar nossos produtos e serviços. Agradecemos por destacar a importância de preparar smoothies de maneira eficiente e pelas dicas úteis que você compartilhou.\n",
      "\n",
      "Estamos comprometidos em fornecer a melhor experiência possível aos nossos clientes e esperamos ter a oportunidade de atendê-lo novamente no futuro.\n",
      "\n",
      "Atenciosamente,\n",
      "\n",
      "Agente de atendimento ao cliente AI\n"
     ]
    }
   ],
   "source": [
    "prompt = f\"\"\"\n",
    "Você é um assistente de IA de atendimento ao cliente.\n",
    "Sua tarefa é enviar uma resposta por e-mail a um cliente valioso.\n",
    "Dado o e-mail do cliente delimitado por ```, \\\n",
    "Gere uma resposta para agradecer ao cliente pela avaliação.\n",
    "Se o sentimento for positivo ou neutro, agradeça por \\\n",
    "sua revisão.\n",
    "Se o sentimento for negativo, peça desculpas e sugira que \\\n",
    "eles podem entrar em contato com o atendimento ao cliente.\n",
    "Certifique-se de usar detalhes específicos da revisão.\n",
    "Escreva em um tom conciso e profissional.\n",
    "Assine o e-mail como `agente de cliente AI`.\n",
    "Comentário do cliente: ```{review}```\n",
    "Sentimento da avaliação: {sentiment}\n",
    "\"\"\"\n",
    "response = get_completion(prompt, temperature=0.7)\n",
    "print(response)"
   ]
  },
  {
   "cell_type": "code",
   "execution_count": null,
   "id": "dc79b056",
   "metadata": {},
   "outputs": [],
   "source": []
  }
 ],
 "metadata": {
  "kernelspec": {
   "display_name": "Python 3 (ipykernel)",
   "language": "python",
   "name": "python3"
  },
  "language_info": {
   "codemirror_mode": {
    "name": "ipython",
    "version": 3
   },
   "file_extension": ".py",
   "mimetype": "text/x-python",
   "name": "python",
   "nbconvert_exporter": "python",
   "pygments_lexer": "ipython3",
   "version": "3.11.4"
  }
 },
 "nbformat": 4,
 "nbformat_minor": 5
}
