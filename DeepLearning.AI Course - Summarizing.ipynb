{
 "cells": [
  {
   "cell_type": "markdown",
   "id": "a3cc02ff",
   "metadata": {},
   "source": [
    "   # 3- Summarizing\n",
    "   _Nesta lição, você irá resumir texto com foco em tópicos específicos._"
   ]
  },
  {
   "cell_type": "code",
   "execution_count": 5,
   "id": "4194bcbd",
   "metadata": {},
   "outputs": [],
   "source": [
    "import openai\n",
    "\n",
    "openai.api_key = \"HERE YOUR API KEY\"\n",
    "\n",
    "def get_completion(prompt, model = \"gpt-3.5-turbo\"):\n",
    "    messages = [ {\"role\": \"user\", \"content\": prompt}]\n",
    "    response = openai.ChatCompletion.create(\n",
    "      model = model,\n",
    "      messages = messages,\n",
    "      temperature = 0,\n",
    "    )\n",
    "    return response.choices[0].message[\"content\"]"
   ]
  },
  {
   "cell_type": "code",
   "execution_count": 3,
   "id": "a643cee8",
   "metadata": {},
   "outputs": [],
   "source": [
    "# Text to summarize\n",
    "\n",
    "prod_review = \"\"\"\n",
    "Comprei este brinquedo de pelúcia de panda para o aniversário da minha filha, \\\n",
    "que adora e o leva para todos os lugares. É macio e super fofo, e  \\\n",
    "seu rosto tem uma aparência amigável. No entanto, \\\n",
    "é um pouco pequeno para o que paguei. Acredito que possa haver \\\n",
    "outras opções maiores pelo mesmo preço. Chegou um dia antes do esperado, \\\n",
    "então pude brincar com ele antes de dar à minha filha.\n",
    "\"\"\""
   ]
  },
  {
   "cell_type": "code",
   "execution_count": 6,
   "id": "4379d70d",
   "metadata": {},
   "outputs": [
    {
     "name": "stdout",
     "output_type": "stream",
     "text": [
      "O brinquedo de pelúcia de panda é macio, fofo e tem um rosto amigável. Porém, é um pouco pequeno para o preço. Chegou antes do esperado.\n"
     ]
    }
   ],
   "source": [
    "# Summarize with a word/sentence/character limit\n",
    "\n",
    "prompt = f\"\"\"\n",
    "Sua tarefa é gerar um resumo bem curto de uma análise de produto em um site de comércio eletrônico.\n",
    "\n",
    "Resuma a análise abaixo, delimitada por três crases, em no máximo 30 palavras.\n",
    "\n",
    "Análise: ```{prod_review}```\n",
    "\"\"\"\n",
    "\n",
    "response = get_completion(prompt)\n",
    "print(response)"
   ]
  },
  {
   "cell_type": "markdown",
   "id": "0442eb4f",
   "metadata": {},
   "source": [
    "# Summarize with a focus on shipping and dellivery"
   ]
  },
  {
   "cell_type": "code",
   "execution_count": 7,
   "id": "7ee514ad",
   "metadata": {},
   "outputs": [
    {
     "name": "stdout",
     "output_type": "stream",
     "text": [
      "Entrega rápida, produto pequeno para o preço.\n"
     ]
    }
   ],
   "source": [
    "prompt = f\"\"\"\n",
    "Sua tarefa é gerar um resumo bem curto de uma análise de produto em um site de comércio eletrônico.\n",
    "\n",
    "Resuma a análise abaixo, delimitada por três crases, em no máximo 10 palavras.\n",
    "Importante responder focando somente no aspecto do envio e a entrega do produto.\n",
    "\n",
    "Análise: ```{prod_review}```\n",
    "\"\"\"\n",
    "\n",
    "response = get_completion(prompt)\n",
    "print(response)"
   ]
  },
  {
   "cell_type": "markdown",
   "id": "2677ac48",
   "metadata": {},
   "source": [
    "# Summarize with a focus on price and value"
   ]
  },
  {
   "cell_type": "code",
   "execution_count": 8,
   "id": "c0a3a54d",
   "metadata": {},
   "outputs": [
    {
     "name": "stdout",
     "output_type": "stream",
     "text": [
      "Preço alto para o tamanho; opções maiores pelo mesmo valor.\n"
     ]
    }
   ],
   "source": [
    "prompt = f\"\"\"\n",
    "Sua tarefa é gerar um resumo breve de uma análise de produto \\\n",
    "de um site de comércio eletrônico para fornecer feedback \\\n",
    "ao departamento de preços, responsável por determinar o preço do produto.\n",
    "\n",
    "Resuma a análise abaixo, delimitada por três acentos graves,em no máximo 10 palavras, \\\n",
    "e focando em qualquer aspecto relevante ao preço e valor percebido.\n",
    "\n",
    "Análise: ```{prod_review}```\n",
    "\"\"\"\n",
    "\n",
    "response = get_completion(prompt)\n",
    "print(response)\n",
    "\n",
    "#Resumos incluem tópicos que não estão relacionados ao tópico de foco."
   ]
  },
  {
   "cell_type": "markdown",
   "id": "8a60bbef",
   "metadata": {},
   "source": [
    "# Try \"extract\" instead of \"summarize\"\n",
    "    \n",
    " Aqui está um prompt que diz que você foi encarregado de extrair informações relevantes \n",
    " para fornecer feedback ao departamento de envio. Agora, ele apenas diz que o produto \n",
    " chegou um dia antes do esperado, sem todas as outras informações que também foram úteis\n",
    " em um resumo geral, mas menos específicas para o departamento de envio se tudo o que eles\n",
    " querem saber é o que aconteceu com o envio."
   ]
  },
  {
   "cell_type": "code",
   "execution_count": 11,
   "id": "570cd5fe",
   "metadata": {},
   "outputs": [
    {
     "name": "stdout",
     "output_type": "stream",
     "text": [
      "\"O brinquedo de pelúcia de panda é macio, fofo e tem uma aparência amigável. Chegou um dia antes do esperado, permitindo que eu brincasse com ele antes de dar à minha filha. No entanto, é um pouco pequeno para o preço pago.\"\n"
     ]
    }
   ],
   "source": [
    "prompt = f\"\"\"\n",
    "Sua tarefa é extrair informações relevantes de uma avaliação de produto em um site de comércio eletrônico para fornecer feedback ao departamento de envio.\n",
    "\n",
    "Da avaliação abaixo, delimitada por aspas triplas, extraia as informações relevantes sobre o envio e a entrega. Limite a 30 palavras.\n",
    "\n",
    "Avaliação: {prod_review}\n",
    "\"\"\"\n",
    "\n",
    "response = get_completion(prompt)\n",
    "print(response)"
   ]
  },
  {
   "cell_type": "markdown",
   "id": "3023627d",
   "metadata": {},
   "source": [
    "# Summarize multiple product reviews\n",
    " Aqui está um exemplo de como usar esse recurso para resumir várias avaliações e facilitar\n",
    "  a leitura delas. Imagine que você tem um site com centenas de avaliações e quer saber \n",
    "  o que os clientes escreveram sem precisar ler tudo em detalhes. Você pode usar esse recurso\n",
    "  para gerar resumos curtos das avaliações, permitindo que você ou outras pessoas naveguem\n",
    "  pelas avaliações de forma mais rápida. E, se desejarem, podem clicar para ler \n",
    "  a avaliação completa. Isso pode ajudar a obter rapidamente uma ideia do que todos os clientes\n",
    "  estão pensando sobre o produto ou serviço.\n",
    "\n",
    "  Então, é isso para a tarefa de resumir. Espero que você consiga imaginar como usar essa\n",
    "  abordagem para outras aplicações com muitos textos, ajudando a resumi-los e a obter uma \n",
    "  visão geral do conteúdo, e talvez explorá-los mais detalhadamente, se desejar.\n",
    "\n",
    "  Abaixo segue o código com os exemplos:\n"
   ]
  },
  {
   "cell_type": "code",
   "execution_count": 26,
   "id": "4f6704bd",
   "metadata": {},
   "outputs": [
    {
     "name": "stdout",
     "output_type": "stream",
     "text": [
      "1 -  Brinquedo de pelúcia de panda macio e fofo, porém um pouco pequeno para o preço. Chegou antes do esperado. \n",
      "\n",
      "2 -  Lâmpada bonita, entrega rápida, bom suporte ao cliente. Empresa preocupada com seus clientes e produtos. \n",
      "\n",
      "3 -  A escova elétrica tem uma bateria impressionante, mas a cabeça é pequena e não alcança bem os espaços entre os dentes. É um bom negócio por cerca de $50. \n",
      "\n",
      "4 -  O avaliador menciona que o preço do produto aumentou em dezembro e que a qualidade não é tão boa quanto antes. \n",
      "\n"
     ]
    }
   ],
   "source": [
    "review_1 = prod_review\n",
    "\n",
    "# Review de uma luminária de chão\n",
    "review_2 = \"\"\"\n",
    "Precisava de uma luminária bonita para o meu quarto, e essa \\\n",
    "tinha espaço extra e um preço razoável. Chegou rapidamente - \\\n",
    "em 2 dias. A corda da luminária quebrou durante o transporte \\\n",
    "e a empresa enviou rapidamente uma nova. Chegou em poucos dias \\\n",
    "também. Foi fácil de montar. Depois, faltou uma peça, entrei em \\\n",
    "contato com o suporte e eles rapidamente me enviaram a peça que \\\n",
    "faltava! Parece ser uma ótima empresa que se preocupa com \\\n",
    "os clientes e produtos.\n",
    "\"\"\"\n",
    "\n",
    "# Review de uma escova de dentes elétrica\n",
    "review_3 = \"\"\"\n",
    "Minha higienista dental recomendou uma escova de dentes elétrica, \\\n",
    "por isso comprei esta. A bateria parece ser impressionante até \\\n",
    "agora. Após a primeira carga e deixando o carregador conectado na \\\n",
    "primeira semana para condicionar a bateria, eu o desconectei e \\\n",
    "usei para escovar os dentes duas vezes ao dia durante as últimas \\\n",
    "3 semanas com a mesma carga. Mas a cabeça da escova é pequena. \\\n",
    "Já vi escovas de dente infantis maiores que esta. Gostaria que \\\n",
    "a cabeça fosse maior, com cerdas de comprimentos diferentes para \\\n",
    "alcançar melhor entre os dentes, pois esta não alcança. No geral, \\\n",
    "se você conseguir por volta de $50, é um bom negócio. As cabeças \\\n",
    "de reposição do fabricante são bem caras, mas você pode obter \\\n",
    "genéricas a preços mais razoáveis. Esta escova de dentes me faz \\\n",
    "sentir como se eu tivesse ido ao dentista todos os dias. Meus \\\n",
    "dentes ficam brilhantes e limpos!\n",
    "\"\"\"\n",
    "\n",
    "# Review de um liquidificador\n",
    "review_4 = \"\"\"\n",
    "Eles ainda tinham o conjunto de 17 peças à venda por cerca de $49 \\\n",
    "no mês de novembro, cerca de metade do preço, mas por algum motivo \\\n",
    "(chamem de extorsão de preço) por volta da segunda semana de dezembro, \\\n",
    "os preços subiram para algo entre $70-$89 para o mesmo conjunto. \\\n",
    "E o conjunto de 11 peças também subiu cerca de $10 em relação ao \\\n",
    "preço da promoção anterior de $29. Parece ok, mas se você olhar \\\n",
    "para a base, a parte onde a lâmina se encaixa não parece tão boa \\\n",
    "como em edições anteriores de alguns anos atrás, mas pretendo ser \\\n",
    "muito cuidadoso com ela (por exemplo, esmago itens muito duros como \\\n",
    "feijões, gelo, arroz, etc. no liquidificador primeiro e depois os \\\n",
    "pulverizo no tamanho da porção que quero no liquidificador, em \\\n",
    "seguida, troco para a lâmina de bater para obter uma farinha mais \\\n",
    "fina, e uso a lâmina de corte cruzado primeiro ao fazer smoothies, \\\n",
    "e depois uso a lâmina plana se precisar deles mais finos/menos \\\n",
    "espessos). Dica especial ao fazer smoothies: corte e congele bem as \\\n",
    "frutas e vegetais (se estiver usando espinafre, amoleça levemente \\\n",
    "o espinafre em uma panela e congele até estar pronto para usar - e \\\n",
    "se estiver fazendo sorbet, use um processador de alimentos pequeno \\\n",
    "a médio) que você planeja usar, dessa forma você pode evitar adicionar \\\n",
    "muito gelo, se é que vai precisar, ao fazer seu smoothie. Após cerca \\\n",
    "de um ano, o motor começou a fazer um barulho estranho. Liguei para o \\\n",
    "serviço de atendimento ao cliente, mas a garantia já tinha expirado, \\\n",
    "então tive que comprar outro. A propósito: a qualidade geral tem \\\n",
    "caído nesse tipo de produto, então eles estão meio que contando com \\\n",
    "o reconhecimento da marca e a fidelidade do consumidor para manter \\\n",
    "as vendas. Recebi em cerca de dois dias.\n",
    "\"\"\"\n",
    "for i in range(len(reviews)):\n",
    "    prompt = f\"\"\"\n",
    "        Sua tarefa é gerar um breve resumo de uma avaliação de produto de um site de comércio eletrônico.\n",
    "\n",
    "        Resuma a avaliação abaixo, delimitada por três acentos graves, em no máximo 20 palavras.\n",
    "\n",
    "        Avaliação: ```{reviews[i]}```\n",
    "    \"\"\"\n",
    "\n",
    "    response = get_completion(prompt)\n",
    "    print(f\"\"\"{i+1} - \"\"\", response, \"\\n\")"
   ]
  },
  {
   "cell_type": "code",
   "execution_count": null,
   "id": "8f493e93",
   "metadata": {},
   "outputs": [],
   "source": []
  }
 ],
 "metadata": {
  "kernelspec": {
   "display_name": "Python 3 (ipykernel)",
   "language": "python",
   "name": "python3"
  },
  "language_info": {
   "codemirror_mode": {
    "name": "ipython",
    "version": 3
   },
   "file_extension": ".py",
   "mimetype": "text/x-python",
   "name": "python",
   "nbconvert_exporter": "python",
   "pygments_lexer": "ipython3",
   "version": "3.11.4"
  }
 },
 "nbformat": 4,
 "nbformat_minor": 5
}
