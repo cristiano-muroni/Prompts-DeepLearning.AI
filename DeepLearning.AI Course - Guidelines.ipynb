{
 "cells": [
  {
   "cell_type": "markdown",
   "id": "5a84b9ad",
   "metadata": {},
   "source": [
    "# 1- Guidelines"
   ]
  },
  {
   "cell_type": "markdown",
   "id": "ca0f7898",
   "metadata": {},
   "source": [
    "_Import OpenAI_"
   ]
  },
  {
   "cell_type": "code",
   "execution_count": 3,
   "id": "80c35fc6",
   "metadata": {
    "scrolled": true
   },
   "outputs": [],
   "source": [
    "import openai"
   ]
  },
  {
   "cell_type": "code",
   "execution_count": 4,
   "id": "0ab3e80b",
   "metadata": {},
   "outputs": [],
   "source": [
    "openai.api_key = \"HERE YOUR API KEY\""
   ]
  },
  {
   "cell_type": "markdown",
   "id": "13632ba1",
   "metadata": {},
   "source": [
    "_Definindo a função \"get_completion\"_"
   ]
  },
  {
   "cell_type": "code",
   "execution_count": 5,
   "id": "3916ef1e",
   "metadata": {},
   "outputs": [],
   "source": [
    "def get_completion(prompt, model = \"gpt-3.5-turbo\"):\n",
    "    messages = [ {\"role\": \"user\", \"content\": prompt}]\n",
    "    response = openai.ChatCompletion.create(\n",
    "      model = model,\n",
    "      messages = messages,\n",
    "      temperature = 0,\n",
    "    )\n",
    "    return response.choices[0].message[\"content\"]"
   ]
  },
  {
   "cell_type": "code",
   "execution_count": 6,
   "id": "08739f9f",
   "metadata": {
    "scrolled": true
   },
   "outputs": [
    {
     "name": "stdout",
     "output_type": "stream",
     "text": [
      "Você deve fornecer instruções claras e específicas para guiar o modelo em direção à saída desejada, evitando respostas irrelevantes ou incorretas, e considerando que prompts mais longos podem fornecer mais clareza e contexto para resultados mais detalhados e relevantes.\n"
     ]
    }
   ],
   "source": [
    "text = f\"\"\"\n",
    "você deve expressar o que deseja que um modelo faça por\\\n",
    "fornecendo instruções que são tão claras e\\\n",
    "como você pode possivelmente torná-losespecificos.\\\n",
    "isso guiará o modelo em direção à saída desejada,\\\n",
    "e irá reduzir as chances de receber respostas irrelevantes\\\n",
    "ou respostas incorretas. Não confunda escrever a\\\n",
    "ser bem claro ao escrever um prompt curto.\\\n",
    "Em muitos casos, prompts mais longos fornecem mais clareza\\\n",
    "e contexto para o modelo, o que pode levar a\\\n",
    "resultados mais detalhados e relevantes.\n",
    "\"\"\"\n",
    "\n",
    "prompt = f\"\"\"\n",
    "Resuma o texto delimitado por crases triplos \\\n",
    "em uma única frase.\n",
    "```{text}```\n",
    "\"\"\"\n",
    "\n",
    "response = get_completion(prompt)\n",
    "print(response)"
   ]
  },
  {
   "cell_type": "code",
   "execution_count": 12,
   "id": "bd76e7b1",
   "metadata": {},
   "outputs": [
    {
     "name": "stdout",
     "output_type": "stream",
     "text": [
      "{\n",
      "  \"livros\": [\n",
      "    {\n",
      "      \"ID do livro\": 1,\n",
      "      \"título\": \"O Mistério do Relógio Quebrado\",\n",
      "      \"autor\": \"Maria Silva\",\n",
      "      \"gênero\": \"Mistério\"\n",
      "    },\n",
      "    {\n",
      "      \"ID do livro\": 2,\n",
      "      \"título\": \"A Magia das Estrelas\",\n",
      "      \"autor\": \"João Santos\",\n",
      "      \"gênero\": \"Fantasia\"\n",
      "    },\n",
      "    {\n",
      "      \"ID do livro\": 3,\n",
      "      \"título\": \"A Vida Além das Fronteiras\",\n",
      "      \"autor\": \"Ana Oliveira\",\n",
      "      \"gênero\": \"Drama\"\n",
      "    }\n",
      "  ]\n",
      "}\n"
     ]
    }
   ],
   "source": [
    "prompt = f\"\"\"\n",
    "Gere uma lista de três títulos de livros fictícios juntamente\\\n",
    "com seus autores e gêneros. \n",
    "Forneça-os no formato JSON com as seguintes chaves: \n",
    "ID do livro, título, autor e gênero.\n",
    "\"\"\"\n",
    "response = get_completion(prompt)\n",
    "print(response)"
   ]
  },
  {
   "cell_type": "code",
   "execution_count": 13,
   "id": "58657e1d",
   "metadata": {
    "scrolled": true
   },
   "outputs": [
    {
     "name": "stdout",
     "output_type": "stream",
     "text": [
      "Passo 1 - Ferva um pouco de água.\n",
      "Passo 2 - Pegue uma xícara e coloque um saquinho de chá dentro dela.\n",
      "Passo 3 - Derrame a água quente sobre o saquinho de chá.\n",
      "Passo 4 - Deixe o chá descansar um pouco para que infunda.\n",
      "Passo 5 - Adicione açúcar ou leite a gosto, se desejar.\n",
      "Passo 6 - Desfrute de sua deliciosa xícara de chá.\n"
     ]
    }
   ],
   "source": [
    "text_01 = f\"\"\"\n",
    "Fazer uma xícara de chá é fácil! Primeiro, você precisa \\\n",
    "ferver um pouco de água. Enquanto isso acontece, \\\n",
    "pegue uma xícara e coloque um saquinho de chá dentro dela. \\\n",
    "Assim que a água estiver quente o suficiente, basta derramá-la sobre o saquinho de chá. \\\n",
    "Deixe-o descansar um pouco para que o chá infunda. Se desejar, \\\n",
    "você pode adicionar um pouco de açúcar ou leite a gosto. \\\n",
    "E é isso! Agora você tem uma deliciosa \\\n",
    "xícara de chá para desfrutar.\n",
    "\"\"\"\n",
    "prompt_01 = f\"\"\"\n",
    "Você receberá um texto delimitado por três aspas. \n",
    "Se o texto contiver uma sequência de instruções, \\\n",
    "reescreva essas instruções no seguinte formato:\n",
    "\n",
    "Passo 1 - ...\n",
    "Passo 2 - ...\n",
    "...\n",
    "Passo N - ...\n",
    "\n",
    "Se o texto não contiver uma sequência de instruções, \\\n",
    "então simplesmente escreva \"Nenhum passo fornecido\". \\\n",
    "\\\"\\\"\\\"{text_01}\\\"\\\"\\\"\n",
    "\"\"\"\n",
    "response = get_completion(prompt_01)\n",
    "print(response)\n"
   ]
  },
  {
   "cell_type": "code",
   "execution_count": 14,
   "id": "2dc69004",
   "metadata": {},
   "outputs": [
    {
     "name": "stdout",
     "output_type": "stream",
     "text": [
      "Nenhum passo fornecido.\n"
     ]
    }
   ],
   "source": [
    "text_02 = f\"\"\"\n",
    "O sol está brilhando intensamente hoje, e os pássaros estão \\\n",
    "cantando. É um dia lindo para dar um passeio no parque.  \\\n",
    "As flores estão florescendo, e as árvores estão balançando suavemente na brisa. \\\n",
    "As pessoas estão por aí, desfrutando do clima adorável.  \\\n",
    "Alguns estão fazendo picnic, enquanto outros estão brincando ou \\\n",
    "simplesmente relaxando na grama. É um dia perfeito \\\n",
    "para passar tempo ao ar livre e apreciar a \\\n",
    "beleza da natureza.\n",
    "\"\"\"\n",
    "prompt_02 = f\"\"\"\n",
    "Você receberá um texto delimitado por três aspas. \n",
    "Se o texto contiver uma sequência de instruções, \\\n",
    "reescreva essas instruções no seguinte formato:\n",
    "\n",
    "Passo 1 - ...\n",
    "Passo 2 - ...\n",
    "...\n",
    "Passo N - ...\n",
    "\n",
    "Se o texto não contiver uma sequência de instruções, \\\n",
    "então simplesmente escreva \"Nenhum passo fornecido\". \\\n",
    "\\\"\\\"\\\"{text_02}\\\"\\\"\\\"\n",
    "\"\"\"\n",
    "response = get_completion(prompt_02)\n",
    "print(response)"
   ]
  },
  {
   "cell_type": "markdown",
   "id": "e4db69a0",
   "metadata": {},
   "source": [
    " # Resposta em estilo consistente\n",
    " Neste **prompt**, estamos instruindo o modelo a responder em \n",
    " um estilo consistente. Temos um exemplo de uma conversa entre uma criança e um avô. \n",
    " \n",
    " A criança diz: \"Ensine-me sobre paciência\". \n",
    " \n",
    " O avô responde com metáforas. Agora, dissemos ao modelo para responder com o mesmo tom consistente\n",
    " \n",
    " ao pedido: \"Ensine-me sobre resiliência\". Devido ao exemplo prévio, o modelo responderá em um tom\n",
    " semelhante a essa próxima instrução.\n",
    " \n",
    " E assim, a resiliência é como uma árvore que se curva com o vento, mas nunca se quebra,\n",
    " e assim por diante. Essas são as nossas quatro táticas para o nosso primeiro princípio,\n",
    " que é fornecer ao modelo instruções claras e específicas. Nosso segundo princípio é dar \n",
    " ao modelo tempo para pensar."
   ]
  },
  {
   "cell_type": "code",
   "execution_count": 17,
   "id": "c4a1cbd5",
   "metadata": {},
   "outputs": [
    {
     "name": "stdout",
     "output_type": "stream",
     "text": [
      "<grandparent>: A resiliência é como uma árvore que enfrenta as tempestades mais violentas e ainda permanece de pé. É a capacidade de se adaptar e se recuperar diante das adversidades, encontrando força nas próprias raízes e perseverando mesmo quando tudo parece perdido. É a determinação de seguir em frente, mesmo quando o caminho é difícil e cheio de obstáculos. A resiliência nos ensina que, mesmo diante das maiores dificuldades, podemos encontrar uma maneira de superá-las e continuar avançando.\n"
     ]
    }
   ],
   "source": [
    "prompt = f\"\"\"\n",
    "Sua tarefa é responder em um estilo consistente.\n",
    "\n",
    "<child>: Ensine-me sobre paciência.\n",
    "\n",
    "<grandparent>: O rio que esculpe o vale mais profundo flui de uma modesta nascente; a mais grandiosa sinfonia tem origem em uma única nota; a tapeçaria mais intrincada começa com um fio solitário.\n",
    "\n",
    "<child>: Ensine-me sobre resiliência.\n",
    "\"\"\"\n",
    "response = get_completion(prompt)\n",
    "print(response)"
   ]
  },
  {
   "cell_type": "code",
   "execution_count": 19,
   "id": "dcc6f789",
   "metadata": {},
   "outputs": [
    {
     "name": "stdout",
     "output_type": "stream",
     "text": [
      "1- Os irmãos Jack e Jill partiram em busca de água, mas sofreram um acidente e continuaram explorando com alegria.\n",
      "2- Les frères Jack et Jill sont partis à la recherche d'eau, mais ont eu un accident et ont continué à explorer avec joie.\n",
      "3- Jack, Jill\n",
      "4- {\n",
      "   \"french_summary\": \"Les frères Jack et Jill sont partis à la recherche d'eau, mais ont eu un accident et ont continué à explorer avec joie.\",\n",
      "   \"num_names\": 2\n",
      "}\n"
     ]
    }
   ],
   "source": [
    "text = f\"\"\"\n",
    "Em uma encantadora vila, os irmãos Jack e Jill partiram \\\n",
    "em uma busca para buscar água de um poço no topo de uma colina. \\\n",
    "Enquanto subiam, cantando alegremente, o infortúnio os atingiu \\\n",
    "- Jack tropeçou em uma pedra e rolou colina abaixo, com Jill seguindo o mesmo destino.\\\n",
    "Apesar de um pouco machucados, o par retornou para casa \\\n",
    "com abraços reconfortantes. Apesar do contratempo, seus espíritos aventureiros permaneceram intactos, \\ \n",
    "e eles continuaram explorando com alegria.\n",
    "\"\"\"\n",
    "\n",
    "#exemplo 1\n",
    "prompt_01 = f\"\"\"\n",
    "Realize as seguintes ações:\n",
    "1- Resuma o texto a seguir delimitado por crases triplos com 1 frase.\n",
    "2- Traduza o resumo para o francês.\n",
    "3- Liste cada nome do resumo em francês.\n",
    "4- Gere um objeto JSON que contenha as seguintes chaves: french_summary, num_names.\n",
    "\n",
    "Separe suas respostas com quebras de linha.\n",
    "\n",
    "Texto:\n",
    "```{text}```\n",
    "\"\"\"\n",
    "response = get_completion(prompt_01)\n",
    "print(response)"
   ]
  },
  {
   "cell_type": "code",
   "execution_count": 24,
   "id": "b6e09430",
   "metadata": {},
   "outputs": [
    {
     "name": "stdout",
     "output_type": "stream",
     "text": [
      "A solução do aluno está correta. O custo total para o primeiro ano de operação em função do número de metros quadrados é dado pela expressão 450x + 100,000.\n"
     ]
    }
   ],
   "source": [
    "studentsSolution = f\"\"\"\n",
    "Onde tiver x considere como tamanho da instalação em metros quadrados.\n",
    "Custos:\n",
    "1. Custo do terreno: 100x\n",
    "2. Custo dos painéis solares: 250x\n",
    "3. Custo da manutenção: 100,000 + 100x\n",
    "Custo Total: 100x + 250x + 100,000 + 100x = 450x + 100,00\n",
    "\"\"\"\n",
    "prompt_03 = f\"\"\"\n",
    "Determine se a solução do aluno está correta ou não.\n",
    "\n",
    "Questão:\n",
    "Eu estou contruindo um projeto de energia solar \\\n",
    "e estou precisando de uma ajuda para resolver os calculos financeiros. \\\n",
    "- O terreno custa $100 por metro quadrado \\\n",
    "- Posso comprar os paineis solares por $250 por metro quadrado \\\n",
    "- Negociei um contrato de manutenção que vai me custar \\\n",
    "um flat de $100k por ano, e um adicional de $10 por metro quadrado\n",
    "\n",
    "Qual é o custo total para o primeiro ano de operação em função do número de metros quadrados.\n",
    "\n",
    "Solução do aluno:\n",
    "{studentsSolution}\n",
    "\n",
    "\"\"\"\n",
    "response = get_completion(prompt_03)\n",
    "print(response)"
   ]
  },
  {
   "cell_type": "markdown",
   "id": "88f537a2",
   "metadata": {},
   "source": [
    " # Inventando descrição de um nome fictício\n",
    " Abaixo temos um exemplo em que o modelo inventa uma descrição de um nome fictício de produto com base\n",
    " em uma empresa real de escovas de dentes. Então, o comando é: \n",
    " \"Fale-me sobre a escova de dentes AeroGlide Ultra Slim Smart da Boy.\"\n",
    " Se executarmos isso, o modelo nos fornecerá uma descrição com uma aparência bastante realista de\n",
    " um produto fictício. E o motivo pelo qual isso pode ser perigoso é que soa realmente plausível. \n",
    " Portanto, certifique-se de usar algumas das técnicas que passamos neste caderno para tentar evitar\n",
    " esse tipo de situação ao criar suas próprias aplicações. Isso é uma fraqueza conhecida dos modelos\n",
    " e algo em que estamos trabalhando ativamente para combater.\n",
    " Uma tática adicional para reduzir alucinações, no caso em que você deseja que o modelo gere respostas\n",
    " com base em um texto, é pedir ao modelo para primeiro encontrar citações relevantes do texto e, em\n",
    " seguida, pedir que ele use essas citações para responder a perguntas. Ter uma maneira de rastrear\n",
    " a resposta de volta ao documento de origem costuma ser muito útil para reduzir essas alucinações."
   ]
  },
  {
   "cell_type": "code",
   "execution_count": 32,
   "id": "f3f57570",
   "metadata": {},
   "outputs": [
    {
     "name": "stdout",
     "output_type": "stream",
     "text": [
      "A escova de dentes Smart ultraslim aeroglide da Cacau Show é simplesmente incrível! Ela foi projetada para proporcionar uma limpeza profunda e eficiente, mesmo para aqueles que possuem apenas um dentinho. Com suas cerdas ultrafinas e macias, ela desliza suavemente pelos dentes, removendo placa bacteriana e garantindo uma higiene bucal impecável. Além disso, seu design slim permite alcançar até os cantinhos mais difíceis, garantindo uma limpeza completa. Então, banguelos de um dentinho só, não tem desculpa para não cuidar da saúde bucal com a escova de dentes Smart ultraslim aeroglide da Cacau Show!\n"
     ]
    }
   ],
   "source": [
    "prompt_04 = f\"\"\"\n",
    "Fale-me resumidamente metendo um loco pra cima dos banguelos de um dentinho só sobre a escova\n",
    "de dentes Smart ultraslim aeroglide da cacau show\n",
    "\"\"\"\n",
    "response = get_completion(prompt_04)\n",
    "print(response)"
   ]
  },
  {
   "cell_type": "code",
   "execution_count": null,
   "id": "6beb8b06",
   "metadata": {},
   "outputs": [],
   "source": []
  }
 ],
 "metadata": {
  "kernelspec": {
   "display_name": "Python 3 (ipykernel)",
   "language": "python",
   "name": "python3"
  },
  "language_info": {
   "codemirror_mode": {
    "name": "ipython",
    "version": 3
   },
   "file_extension": ".py",
   "mimetype": "text/x-python",
   "name": "python",
   "nbconvert_exporter": "python",
   "pygments_lexer": "ipython3",
   "version": "3.11.4"
  }
 },
 "nbformat": 4,
 "nbformat_minor": 5
}
